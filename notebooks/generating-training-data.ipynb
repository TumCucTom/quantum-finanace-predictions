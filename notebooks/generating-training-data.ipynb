{
 "cells": [
  {
   "cell_type": "markdown",
   "id": "56e3d9a0",
   "metadata": {},
   "source": [
    "# Stock Data Fetching and Preprocessing\n",
    "\n",
    "This notebook demonstrates how to fetch stock data from the Alpha Vantage API and preprocess it. The preprocessing includes handling missing values, calculating additional features like daily returns and moving averages, and scaling the data using MinMaxScaler."
   ]
  },
  {
   "cell_type": "code",
   "execution_count": null,
   "id": "f56a91a9",
   "metadata": {},
   "outputs": [],
   "source": [
    "import pandas as pd\n",
    "import numpy as np\n",
    "import requests\n",
    "from sklearn.preprocessing import MinMaxScaler\n",
    "from datetime import datetime\n"
   ]
  },
  {
   "cell_type": "markdown",
   "id": "fbed9c1a",
   "metadata": {},
   "source": [
    "## 1. Define the Alpha Vantage API Key\n",
    "Before fetching the data, we need to define our API key to authenticate with the Alpha Vantage API. You can obtain your API key from [Alpha Vantage's website](https://www.alphavantage.co/support/#api-key)."
   ]
  },
  {
   "cell_type": "code",
   "execution_count": null,
   "id": "0fb0e35e",
   "metadata": {},
   "outputs": [],
   "source": [
    "# Alpha Vantage API key (get one from https://www.alphavantage.co/support/#api-key)\n",
    "API_KEY = 'Enter something'"
   ]
  },
  {
   "cell_type": "markdown",
   "id": "ce4024d2",
   "metadata": {},
   "source": [
    "## 2. Fetch Stock Data Function\n",
    "This function fetches stock data for a given symbol from the Alpha Vantage API. You can customize the time interval and the output size (full or compact)."
   ]
  },
  {
   "cell_type": "code",
   "execution_count": null,
   "id": "fb96044e",
   "metadata": {},
   "outputs": [],
   "source": [
    "# Function to fetch stock data from Alpha Vantage API\n",
    "def fetch_stock_data(symbol, interval='daily', outputsize='full'):\n",
    "    \"\"\"Fetch stock data from Alpha Vantage API.\"\"\"\n",
    "    url = f\"https://www.alphavantage.co/query\"\n",
    "    params = {\n",
    "        'function': 'TIME_SERIES_DAILY' if interval == 'daily' else 'TIME_SERIES_INTRADAY',\n",
    "        'symbol': symbol,\n",
    "        'interval': '1d',  # 1 minute, 5 minutes, etc. for intraday\n",
    "        'apikey': API_KEY,\n",
    "        'outputsize': outputsize  # full or compact\n",
    "    }\n",
    "    response = requests.get(url, params=params)\n",
    "    data = response.json()\n",
    "\n",
    "    # Check if the request was successful and data is present\n",
    "    if 'Time Series (Daily)' not in data:\n",
    "        raise Exception(f\"Error fetching data for {symbol}: {data.get('Note', 'Unknown error')}\")\n",
    "\n",
    "    # Convert the fetched data into a pandas DataFrame\n",
    "    time_series = data[f'Time Series ({interval.capitalize()})']\n",
    "    df = pd.DataFrame.from_dict(time_series, orient='index')\n",
    "\n",
    "    # Convert the index to datetime format\n",
    "    df.index = pd.to_datetime(df.index)\n",
    "\n",
    "    # Rename columns to more convenient names\n",
    "    df.columns = ['open', 'high', 'low', 'close', 'volume']\n",
    "\n",
    "    # Convert column data to numeric\n",
    "    df = df.astype({\n",
    "        'open': 'float64',\n",
    "        'high': 'float64',\n",
    "        'low': 'float64',\n",
    "        'close': 'float64',\n",
    "        'volume': 'int64'\n",
    "    })\n",
    "\n",
    "    # Sort data by date (ascending)\n",
    "    df = df.sort_index()\n",
    "\n",
    "    return df"
   ]
  },
  {
   "cell_type": "markdown",
   "id": "1a61e1e5",
   "metadata": {},
   "source": [
    "## 3. Preprocess Stock Data Function\n",
    "This function preprocesses the stock data by handling missing values, extracting additional features such as daily returns and moving averages, and optionally scaling the data using MinMaxScaler."
   ]
  },
  {
   "cell_type": "code",
   "execution_count": null,
   "id": "7d682b9b",
   "metadata": {},
   "outputs": [],
   "source": [
    "# Function to preprocess data (handling missing values, scaling, etc.)\n",
    "def preprocess_data(df, scale=True):\n",
    "    \"\"\"Preprocess stock data (handle missing values and scale).\"\"\"\n",
    "\n",
    "    # Handle missing data: drop rows with any missing values\n",
    "    df = df.dropna()\n",
    "\n",
    "    # Feature engineering: Extracting additional features if needed\n",
    "    # For example: daily returns, moving averages, etc.\n",
    "    df['daily_return'] = df['close'].pct_change()  # daily percentage change in closing price\n",
    "    df['5_day_moving_avg'] = df['close'].rolling(window=5).mean()\n",
    "    df['30_day_moving_avg'] = df['close'].rolling(window=30).mean()\n",
    "\n",
    "    # Drop rows with NaN created by rolling calculations\n",
    "    df = df.dropna()\n",
    "\n",
    "    # Scaling data: Use MinMaxScaler to scale data (feature normalization)\n",
    "    if scale:\n",
    "        scaler = MinMaxScaler(feature_range=(0, 1))\n",
    "        scaled_columns = ['open', 'high', 'low', 'close', 'volume', 'daily_return', '5_day_moving_avg', '30_day_moving_avg']\n",
    "        df[scaled_columns] = scaler.fit_transform(df[scaled_columns])\n",
    "\n",
    "    return df"
   ]
  },
  {
   "cell_type": "markdown",
   "id": "f250ea62",
   "metadata": {},
   "source": [
    "## 4. Example Usage\n",
    "In this section, we use the above functions to fetch stock data for a given symbol, preprocess it, and save the processed data to a CSV file."
   ]
  },
  {
   "cell_type": "code",
   "execution_count": null,
   "id": "39676e0a",
   "metadata": {},
   "outputs": [],
   "source": [
    "# Example usage:\n",
    "if __name__ == '__main__':\n",
    "    stock_symbol = 'AAPL'  # Example: Apple Inc.\n",
    "    print(f\"Fetching data for {stock_symbol}...\")\n",
    "\n",
    "    # Step 1: Fetch stock data from Alpha Vantage\n",
    "    df = fetch_stock_data(stock_symbol)\n",
    "    print(f\"Data for {stock_symbol} fetched successfully.\")\n",
    "\n",
    "    # Step 2: Preprocess the data (clean and scale)\n",
    "    df_preprocessed = preprocess_data(df)\n",
    "    print(f\"Data preprocessing complete.\")\n",
    "\n",
    "    # Step 3: Save preprocessed data to a CSV file (optional)\n",
    "    df_preprocessed.to_csv(f'{stock_symbol}_preprocessed_data.csv')\n",
    "    print(f\"Preprocessed data saved to '{stock_symbol}_preprocessed_data.csv'.\")\n",
    "\n",
    "    # Optionally, you can print the first few rows of the preprocessed data\n",
    "    print(df_preprocessed.head())"
   ]
  }
 ],
 "metadata": {
  "kernelspec": {
   "display_name": "Python 3 (ipykernel)",
   "language": "python",
   "name": "python3"
  },
  "language_info": {
   "codemirror_mode": {
    "name": "ipython",
    "version": 3
   },
   "file_extension": ".py",
   "mimetype": "text/x-python",
   "name": "python",
   "nbconvert_exporter": "python",
   "pygments_lexer": "ipython3",
   "version": "3.13.1"
  }
 },
 "nbformat": 4,
 "nbformat_minor": 5
}
