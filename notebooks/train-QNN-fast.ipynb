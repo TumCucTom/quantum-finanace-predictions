{
  "cells": [
    {
      "cell_type": "markdown",
      "metadata": {},
      "source": [
        "# Quantum Neural Network for Stock Price Prediction\n",
        "\n",
        "This notebook demonstrates how to create, train, and save a quantum neural network (QNN) for stock price prediction. The QNN utilizes quantum circuits for feature mapping and ansatz construction, and is trained using PyTorch. We will also visualize the training loss and save the trained model for later use."
      ]
    },
    {
      "cell_type": "markdown",
      "metadata": {},
      "source": [
        "## 1. Import Necessary Libraries\n",
        "We begin by importing the necessary libraries for quantum computing, machine learning, data manipulation, and visualization."
      ]
    },
    {
      "cell_type": "code",
      "execution_count": null,
      "id": "fcb1ce77-1",
      "metadata": {},
      "outputs": [],
      "source": [
        "import numpy as np\n",
        "import pandas as pd\n",
        "from qiskit import Aer\n",
        "from qiskit.circuit.library import RealAmplitudes\n",
        "from qiskit.utils import QuantumInstance\n",
        "from qiskit_machine_learning.neural_networks import TwoLayerQNN\n",
        "from qiskit_machine_learning.connectors import TorchConnector\n",
        "from qiskit.circuit import ParameterVector\n",
        "from sklearn.model_selection import train_test_split\n",
        "from sklearn.utils import shuffle\n",
        "import torch\n",
        "from torch import nn\n",
        "from sklearn.preprocessing import MinMaxScaler\n",
        "import matplotlib.pyplot as plt\n",
        "import pickle\n",
        "import time"
      ]
    },
    {
      "cell_type": "markdown",
      "metadata": {},
      "source": [
        "## 2. Data Preparation\n",
        "In this section, we define a function to prepare the data by splitting it into training and testing sets, and reduce the dataset size by selecting a fixed number of samples."
      ]
    },
    {
      "cell_type": "code",
      "execution_count": null,
      "id": "fcb1ce77-2",
      "metadata": {},
      "outputs": [],
      "source": [
        "# Example function to prepare and split the data\n",
        "def prepare_data(df, features, target, test_size=0.2, num_samples=100):\n",
        "    \"\"\"Prepare and split the data into training and testing sets, and reduce dataset size.\"\"\"\n",
        "    X = df[features].values\n",
        "    y = df[target].values\n",
        "    X, y = shuffle(X, y, random_state=42)\n",
        "    X, y = X[:num_samples], y[:num_samples]  # Reduce dataset size\n",
        "    X_train, X_test, y_train, y_test = train_test_split(X, y, test_size=test_size, random_state=42)\n",
        "    return X_train, X_test, y_train, y_test"
      ]
    },
    {
      "cell_type": "markdown",
      "metadata": {},
      "source": [
        "## 3. Quantum Neural Network Creation\n",
        "This section defines the `create_qnn` function that creates a TwoLayerQNN using shallow quantum circuits for the feature map and ansatz."
      ]
    },
    {
      "cell_type": "code",
      "execution_count": null,
      "id": "fcb1ce77-3",
      "metadata": {},
      "outputs": [],
      "source": [
        "# Create a quantum neural network\n",
        "def create_qnn(num_qubits):\n",
        "    \"\"\"Create a TwoLayerQNN with unique parameter names and a shallow circuit.\"\"\"\n",
        "    # Feature map\n",
        "    feature_map = RealAmplitudes(num_qubits, reps=1)  # Shallow circuit\n",
        "    feature_map_params = ParameterVector('fm_theta', feature_map.num_parameters)\n",
        "    feature_map.assign_parameters(feature_map_params, inplace=True)\n",
        "\n",
        "    # Ansatz\n",
        "    ansatz = RealAmplitudes(num_qubits, reps=1)  # Shallow circuit\n",
        "    ansatz_params = ParameterVector('ansatz_theta', ansatz.num_parameters)\n",
        "    ansatz.assign_parameters(ansatz_params, inplace=True)\n",
        "\n",
        "    # TwoLayerQNN\n",
        "    qnn = TwoLayerQNN(\n",
        "        num_qubits=num_qubits,\n",
        "        feature_map=feature_map,\n",
        "        ansatz=ansatz,\n",
        "        quantum_instance=QuantumInstance(\n",
        "            Aer.get_backend(\"qasm_simulator\"),\n",
        "            shots=1024,\n",
        "            optimization_level=1,\n",
        "            backend_options={\"max_parallel_threads\": 4}  # Enable parallelization\n",
        "        )\n",
        "    )\n",
        "    return qnn"
      ]
    },
    {
      "cell_type": "markdown",
      "metadata": {},
      "source": [
        "## 4. Training the QNN\n",
        "In this section, we define the `train_qnn` function to train the quantum neural network using PyTorch. This includes defining the optimizer, loss function, and training loop."
      ]
    },
    {
      "cell_type": "code",
      "execution_count": null,
      "id": "fcb1ce77-4",
      "metadata": {},
      "outputs": [],
      "source": [
        "# Training the QNN with PyTorch\n",
        "def train_qnn(X_train, y_train, num_qubits=4, epochs=10, learning_rate=0.01):\n",
        "    \"\"\"Train a quantum neural network using PyTorch.\"\"\"\n",
        "    qnn = create_qnn(num_qubits)\n",
        "\n",
        "    # Connect QNN to PyTorch\n",
        "    model = TorchConnector(qnn)\n",
        "    model = nn.Sequential(model, nn.Linear(1, 1))  # Add a linear layer\n",
        "\n",
        "    # Define loss function and optimizer\n",
        "    loss_function = nn.MSELoss()\n",
        "    optimizer = torch.optim.Adam(model.parameters(), lr=learning_rate)\n",
        "\n",
        "    # Convert data to PyTorch tensors\n",
        "    X_train_torch = torch.tensor(X_train, dtype=torch.float32)\n",
        "    y_train_torch = torch.tensor(y_train, dtype=torch.float32)\n",
        "\n",
        "    # Training loop\n",
        "    losses = []\n",
        "    start_time = time.time()\n",
        "    for epoch in range(epochs):\n",
        "        optimizer.zero_grad()\n",
        "        predictions = model(X_train_torch)\n",
        "        loss = loss_function(predictions.flatten(), y_train_torch)\n",
        "        loss.backward()\n",
        "        optimizer.step()\n",
        "\n",
        "        losses.append(loss.item())\n",
        "        print(f\"Epoch {epoch + 1}/{epochs}, Loss: {loss.item()}\")\n",
        "\n",
        "    end_time = time.time()\n",
        "    print(f\"Training completed in {end_time - start_time:.2f} seconds\")\n",
        "    return model, losses"
      ]
    },
    {
      "cell_type": "markdown",
      "metadata": {},
      "source": [
        "## 5. Save and Load Model\n",
        "We define functions to save the trained model and load it for future predictions or further training."
      ]
    },
    {
      "cell_type": "code",
      "execution_count": null,
      "id": "fcb1ce77-5",
      "metadata": {},
      "outputs": [],
      "source": [
        "# Save the trained QNN model\n",
        "def save_qnn_model(model, filename=\"quantum_nn_model.pth\"):\n",
        "    \"\"\"Save the trained quantum neural network model to a file.\"\"\"\n",
        "    torch.save(model.state_dict(), filename)\n",
        "    print(f\"Model saved as {filename}\")\n",
        "\n",
        "# Load the saved model\n",
        "def load_qnn_model(qnn, filename=\"quantum_nn_model.pth\"):\n",
        "    \"\"\"Load the saved quantum neural network model from a file.\"\"\"\n",
        "    model = TorchConnector(qnn)\n",
        "    model.load_state_dict(torch.load(filename))\n",
        "    return model"
      ]
    },
    {
      "cell_type": "markdown",
      "metadata": {},
      "source": [
        "## 6. Visualize the Training Loss\n",
        "This function plots the loss during the training process to track the model's learning progress."
      ]
    },
    {
      "cell_type": "code",
      "execution_count": null,
      "id": "fcb1ce77-6",
      "metadata": {},
      "outputs": [],
      "source": [
        "# Visualize the loss during training\n",
        "def plot_loss(losses):\n",
        "    \"\"\"Plot the loss during the training process.\"\"\"\n",
        "    plt.plot(losses)\n",
        "    plt.title(\"Quantum Neural Network Training Loss\")\n",
        "    plt.xlabel(\"Epochs\")\n",
        "    plt.ylabel(\"Loss (MSE)\")\n",
        "    plt.show()"
      ]
    },
    {
      "cell_type": "markdown",
      "metadata": {},
      "source": [
        "## 7. Example Usage\n",
        "This section demonstrates how to load the preprocessed data, prepare it, train the QNN, and visualize the training loss."
      ]
    },
    {
      "cell_type": "code",
      "execution_count": null,
      "id": "fcb1ce77-7",
      "metadata": {},
      "outputs": [],
      "source": [
        "# Example usage\n",
        "if __name__ == '__main__':\n",
        "    # Load the preprocessed data (replace this with your preprocessed data)\n",
        "    df = pd.read_csv('../data/AAPL_preprocessed_data.csv')\n",
        "\n",
        "    # Prepare the data: Features (columns) and target (column to predict)\n",
        "    features = ['open', 'high', 'low', 'close', 'volume', 'daily_return', '5_day_moving_avg', '30_day_moving_avg']\n",
        "    target = 'close'  # Target is the closing price\n",
        "    X_train, X_test, y_train, y_test = prepare_data(df, features, target, num_samples=100)\n",
        "\n",
        "    # Train the QNN\n",
        "    model, losses = train_qnn(X_train, y_train, num_qubits=4, epochs=10, learning_rate=0.01)\n",
        "\n",
        "    # Save the trained QNN model\n",
        "    save_qnn_model(model, \"../model/quantum_nn_model.pth\")\n",
        "\n",
        "    # Plot the training loss\n",
        "    plot_loss(losses)"
      ]
    }
  ],
  "metadata": {},
  "nbformat": 4,
  "nbformat_minor": 5
}
