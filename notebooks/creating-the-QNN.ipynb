{
 "cells": [
  {
   "cell_type": "markdown",
   "id": "9bbd991a",
   "metadata": {},
   "source": [
    "# Quantum Neural Network for Stock Price Prediction\n",
    "\n",
    "This notebook demonstrates how to create, train, and save a quantum neural network (QNN) for stock price prediction. The QNN utilizes quantum circuits for feature mapping and ansatz construction, and is trained using PyTorch. We will also visualize the training loss and save the trained model for later use."
   ]
  },
  {
   "cell_type": "code",
   "execution_count": null,
   "id": "0e6db345",
   "metadata": {},
   "outputs": [],
   "source": [
    "import numpy as np\n",
    "import pandas as pd\n",
    "from qiskit import Aer\n",
    "from qiskit.circuit.library import RealAmplitudes\n",
    "from qiskit.utils import QuantumInstance\n",
    "from qiskit_machine_learning.neural_networks import TwoLayerQNN\n",
    "from qiskit_machine_learning.connectors import TorchConnector\n",
    "from qiskit.circuit import ParameterVector\n",
    "from sklearn.model_selection import train_test_split\n",
    "import torch\n",
    "from torch import nn\n",
    "from sklearn.preprocessing import MinMaxScaler\n",
    "import matplotlib.pyplot as plt\n",
    "import pickle"
   ]
  },
  {
   "cell_type": "markdown",
   "id": "e57de0e0",
   "metadata": {},
   "source": [
    "## 1. Prepare Data Function\n",
    "In this step, we prepare and split the data into training and testing sets. The function takes a DataFrame, selects the relevant features and target column, and returns the training and testing data using the `train_test_split` function from `sklearn`."
   ]
  },
  {
   "cell_type": "code",
   "execution_count": null,
   "id": "ca63de2f",
   "metadata": {},
   "outputs": [],
   "source": [
    "# Example function to prepare and split the data\n",
    "def prepare_data(df, features, target, test_size=0.2):\n",
    "    \"\"\"Prepare and split the data into training and testing sets.\"\"\"\n",
    "    X = df[features].values\n",
    "    y = df[target].values\n",
    "    X_train, X_test, y_train, y_test = train_test_split(X, y, test_size=test_size, random_state=42)\n",
    "    return X_train, X_test, y_train, y_test"
   ]
  },
  {
   "cell_type": "markdown",
   "id": "56bc83eb",
   "metadata": {},
   "source": [
    "## 2. Create Quantum Neural Network (QNN)\n",
    "The `create_qnn` function constructs a quantum neural network using Qiskit's `TwoLayerQNN` class. It uses the `RealAmplitudes` feature map and ansatz, and a quantum instance with the QASM simulator backend."
   ]
  },
  {
   "cell_type": "code",
   "execution_count": null,
   "id": "19b232a2",
   "metadata": {},
   "outputs": [],
   "source": [
    "# Create a quantum neural network\n",
    "def create_qnn(num_qubits):\n",
    "    \"\"\"Create a TwoLayerQNN with unique parameter names.\"\"\"\n",
    "    # Feature map\n",
    "    feature_map = RealAmplitudes(num_qubits, reps=1)\n",
    "    feature_map_params = ParameterVector('fm_theta', feature_map.num_parameters)\n",
    "    feature_map.assign_parameters(feature_map_params, inplace=True)\n",
    "\n",
    "    # Ansatz\n",
    "    ansatz = RealAmplitudes(num_qubits, reps=1)\n",
    "    ansatz_params = ParameterVector('ansatz_theta', ansatz.num_parameters)\n",
    "    ansatz.assign_parameters(ansatz_params, inplace=True)\n",
    "\n",
    "    # TwoLayerQNN\n",
    "    qnn = TwoLayerQNN(\n",
    "        num_qubits=num_qubits,\n",
    "        feature_map=feature_map,\n",
    "        ansatz=ansatz,\n",
    "        quantum_instance=QuantumInstance(Aer.get_backend(\"qasm_simulator\"))\n",
    "    )\n",
    "    return qnn"
   ]
  },
  {
   "cell_type": "markdown",
   "id": "3b0f87af",
   "metadata": {},
   "source": [
    "## 3. Train Quantum Neural Network\n",
    "In this section, the QNN is trained using the training data. The PyTorch model is connected to the quantum neural network, and a standard training loop is used with an Adam optimizer and MSE loss function."
   ]
  },
  {
   "cell_type": "code",
   "execution_count": null,
   "id": "4abf6b7f",
   "metadata": {},
   "outputs": [],
   "source": [
    "# Training the QNN with PyTorch\n",
    "def train_qnn(X_train, y_train, num_qubits=4, epochs=100, learning_rate=0.01):\n",
    "    \"\"\"Train a quantum neural network using PyTorch.\"\"\"\n",
    "    qnn = create_qnn(num_qubits)\n",
    "\n",
    "    # Connect QNN to PyTorch\n",
    "    model = TorchConnector(qnn)\n",
    "    model = nn.Sequential(model, nn.Linear(1, 1))  # Add a linear layer\n",
    "\n",
    "    # Define loss function and optimizer\n",
    "    loss_function = nn.MSELoss()\n",
    "    optimizer = torch.optim.Adam(model.parameters(), lr=learning_rate)\n",
    "\n",
    "    # Convert data to PyTorch tensors\n",
    "    X_train_torch = torch.tensor(X_train, dtype=torch.float32)\n",
    "    y_train_torch = torch.tensor(y_train, dtype=torch.float32)\n",
    "\n",
    "    # Training loop\n",
    "    losses = []\n",
    "    for epoch in range(epochs):\n",
    "        optimizer.zero_grad()\n",
    "        predictions = model(X_train_torch)\n",
    "        loss = loss_function(predictions.flatten(), y_train_torch)\n",
    "        loss.backward()\n",
    "        optimizer.step()\n",
    "\n",
    "        losses.append(loss.item())\n",
    "        print(f\"Epoch {epoch + 1}/{epochs}, Loss: {loss.item()}\")\n",
    "\n",
    "    return model, losses"
   ]
  },
  {
   "cell_type": "markdown",
   "id": "06598ace",
   "metadata": {},
   "source": [
    "## 4. Save and Load QNN Model\n",
    "Here, we provide functions to save the trained model to a file and load it again for later use. This is important to preserve the model after training."
   ]
  },
  {
   "cell_type": "code",
   "execution_count": null,
   "id": "9b16cf1a",
   "metadata": {},
   "outputs": [],
   "source": [
    "# Save the trained QNN model\n",
    "def save_qnn_model(model, filename=\"quantum_nn_model.pth\"):\n",
    "    \"\"\"Save the trained quantum neural network model to a file.\"\"\"\n",
    "    torch.save(model.state_dict(), filename)\n",
    "    print(f\"Model saved as {filename}\")\n",
    "\n",
    "# Load the saved model\n",
    "def load_qnn_model(qnn, filename=\"quantum_nn_model.pth\"):\n",
    "    \"\"\"Load the saved quantum neural network model from a file.\"\"\"\n",
    "    model = TorchConnector(qnn)\n",
    "    model.load_state_dict(torch.load(filename))\n",
    "    return model"
   ]
  },
  {
   "cell_type": "markdown",
   "id": "81cab1d1",
   "metadata": {},
   "source": [
    "## 5. Visualize Training Loss\n",
    "Finally, we visualize the training loss over the epochs to evaluate how well the model is converging."
   ]
  },
  {
   "cell_type": "code",
   "execution_count": null,
   "id": "0d81f3fc",
   "metadata": {},
   "outputs": [],
   "source": [
    "# Visualize the loss during training\n",
    "def plot_loss(losses):\n",
    "    \"\"\"Plot the loss during the training process.\"\"\"\n",
    "    plt.plot(losses)\n",
    "    plt.title(\"Quantum Neural Network Training Loss\")\n",
    "    plt.xlabel(\"Epochs\")\n",
    "    plt.ylabel(\"Loss (MSE)\")\n",
    "    plt.show()"
   ]
  },
  {
   "cell_type": "markdown",
   "id": "a5a344aa",
   "metadata": {},
   "source": [
    "## 6. Example Usage\n",
    "In the final step, we load the preprocessed data, train the QNN, save the trained model, and plot the training loss. Replace the data path and features with your dataset as needed."
   ]
  },
  {
   "cell_type": "code",
   "execution_count": null,
   "id": "6e4c5b88",
   "metadata": {},
   "outputs": [],
   "source": [
    "# Example usage\n",
    "if __name__ == '__main__':\n",
    "    # Load the preprocessed data (replace this with your preprocessed data)\n",
    "    df = pd.read_csv('../data/AAPL_preprocessed_data.csv')\n",
    "\n",
    "    # Prepare the data: Features (columns) and target (column to predict)\n",
    "    features = ['open', 'high', 'low', 'close', 'volume', 'daily_return', '5_day_moving_avg', '30_day_moving_avg']\n",
    "    target = 'close'  # Target is the closing price\n",
    "    X_train, X_test, y_train, y_test = prepare_data(df, features, target)\n",
    "\n",
    "    # Train the QNN\n",
    "    model, losses = train_qnn(X_train, y_train, num_qubits=4, epochs=100, learning_rate=0.01)\n",
    "\n",
    "    # Save the trained QNN model\n",
    "    save_qnn_model(model, \"../model/quantum_nn_model.pth\")\n",
    "\n",
    "    # Plot the training loss\n",
    "    plot_loss(losses)"
   ]
  }
 ],
 "metadata": {
  "kernelspec": {
   "display_name": "Python 3 (ipykernel)",
   "language": "python",
   "name": "python3"
  },
  "language_info": {
   "codemirror_mode": {
    "name": "ipython",
    "version": 3
   },
   "file_extension": ".py",
   "mimetype": "text/x-python",
   "name": "python",
   "nbconvert_exporter": "python",
   "pygments_lexer": "ipython3",
   "version": "3.13.1"
  }
 },
 "nbformat": 4,
 "nbformat_minor": 5
}
