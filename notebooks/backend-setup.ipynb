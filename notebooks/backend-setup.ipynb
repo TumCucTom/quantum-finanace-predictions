{
  "cells": [
    {
      "cell_type": "markdown",
      "metadata": {},
      "source": [
        "# Quantum Neural Network with Flask API\n",
        "This notebook demonstrates how to set up a Flask web API for predicting stock prices using a pre-trained quantum neural network (QNN). The QNN is created using Qiskit and PyTorch, and the API offers two routes: one for predicting stock prices and another for fetching stock data from Yahoo Finance."
      ]
    },
    {
      "cell_type": "markdown",
      "metadata": {},
      "source": [
        "## 1. Import Necessary Libraries\n",
        "We begin by importing the necessary libraries for building the Flask API, processing data, and using quantum computing techniques for stock price prediction. This includes libraries for web development, quantum computing, data manipulation, and stock data fetching."
      ]
    },
    {
      "cell_type": "code",
      "execution_count": null,
      "id": "de2d16d6-1",
      "metadata": {},
      "outputs": [],
      "source": [
        "from flask import Flask, request, jsonify\n",
        "import pandas as pd\n",
        "import torch\n",
        "from qiskit import Aer\n",
        "from qiskit.utils import QuantumInstance\n",
        "from qiskit_machine_learning.connectors import TorchConnector\n",
        "from qiskit_machine_learning.neural_networks import TwoLayerQNN\n",
        "from qiskit.circuit.library import RealAmplitudes\n",
        "from qiskit.circuit import ParameterVector\n",
        "import yfinance as yf\n",
        "import os\n"
      ]
    },
    {
      "cell_type": "markdown",
      "metadata": {},
      "source": [
        "## 2. Set Up Flask App\n",
        "In this section, we create the Flask app that will serve as the API for making predictions and fetching stock data. First, we initialize the Flask app."
      ]
    },
    {
      "cell_type": "code",
      "execution_count": null,
      "id": "de2d16d6-2",
      "metadata": {},
      "outputs": [],
      "source": [
        "# Set up the Flask app\n",
        "app = Flask(__name__)\n"
      ]
    },
    {
      "cell_type": "markdown",
      "metadata": {},
      "source": [
        "## 3. Create Quantum Neural Network (QNN)\n",
        "Now we define the function to create the quantum neural network. This will set up the feature map and ansatz using Qiskit's `RealAmplitudes` circuit for quantum feature extraction."
      ]
    },
    {
      "cell_type": "code",
      "execution_count": null,
      "id": "de2d16d6-3",
      "metadata": {},
      "outputs": [],
      "source": [
        "# Create a TwoLayerQNN model\n",
        "def create_qnn(num_qubits):\n",
        "    \"\"\"Create a TwoLayerQNN with feature map and ansatz.\"\"\"\n",
        "    feature_map = RealAmplitudes(num_qubits, reps=1)\n",
        "    feature_map_params = ParameterVector('fm_theta', feature_map.num_parameters)\n",
        "    feature_map.assign_parameters(feature_map_params, inplace=True)\n",
        "\n",
        "    ansatz = RealAmplitudes(num_qubits, reps=1)\n",
        "    ansatz_params = ParameterVector('ansatz_theta', ansatz.num_parameters)\n",
        "    ansatz.assign_parameters(ansatz_params, inplace=True)\n",
        "\n",
        "    qnn = TwoLayerQNN(\n",
        "        num_qubits=num_qubits,\n",
        "        feature_map=feature_map,\n",
        "        ansatz=ansatz,\n",
        "        quantum_instance=QuantumInstance(Aer.get_backend('qasm_simulator'))\n",
        "    )\n",
        "    return qnn\n"
      ]
    },
    {
      "cell_type": "markdown",
      "metadata": {},
      "source": [
        "## 4. Integrate QNN with PyTorch\n",
        "We now integrate the quantum neural network with PyTorch. The QNN will be wrapped using the `TorchConnector`, and we will add a simple linear layer to the model."
      ]
    },
    {
      "cell_type": "code",
      "execution_count": null,
      "id": "de2d16d6-4",
      "metadata": {},
      "outputs": [],
      "source": [
        "# Integrate QNN with PyTorch\n",
        "qnn = create_qnn(num_qubits=4)\n",
        "model = TorchConnector(qnn)\n",
        "model = torch.nn.Sequential(model, torch.nn.Linear(1, 1))  # Add a linear layer for output"
      ]
    },
    {
      "cell_type": "markdown",
      "metadata": {},
      "source": [
        "## 5. Load the Pre-trained Model\n",
        "In this section, we attempt to load the pre-trained model parameters. If the model file exists, we load the state dictionary; otherwise, an error message is displayed."
      ]
    },
    {
      "cell_type": "code",
      "execution_count": null,
      "id": "de2d16d6-5",
      "metadata": {},
      "outputs": [],
      "source": [
        "# Load the trained model parameters from the specified file\n",
        "MODEL_PATH = \"../model/quantum_nn_model.pth\"\n",
        "if os.path.exists(MODEL_PATH):\n",
        "    model.load_state_dict(torch.load(MODEL_PATH))\n",
        "    print(\"Model loaded successfully.\")\n",
        "else:\n",
        "    print(\"Model file not found. Ensure the model is trained and saved.\")"
      ]
    },
    {
      "cell_type": "markdown",
      "metadata": {},
      "source": [
        "## 6. Define Prediction Route\n",
        "We now define the route for predicting stock prices. The route accepts a file upload containing stock data, processes it, and uses the QNN model to make predictions."
      ]
    },
    {
      "cell_type": "code",
      "execution_count": null,
      "id": "de2d16d6-6",
      "metadata": {},
      "outputs": [],
      "source": [
        "# Flask route for predicting stock prices\n",
        "@app.route('/predict', methods=['POST'])\n",
        "def predict():\n",
        "    \"\"\"Predict stock prices using the pre-trained QNN model.\"\"\"\n",
        "    print('predicting')\n",
        "    try:\n",
        "        if 'file' not in request.files:\n",
        "            return jsonify({\"error\": \"No file uploaded.\"}), 400\n",
        "\n",
        "        # Read the uploaded CSV file containing stock data\n",
        "        file = request.files['file']\n",
        "        df = pd.read_csv(file)\n",
        "\n",
        "        # Preprocess the input data by selecting relevant features\n",
        "        features = ['open', 'high', 'low', 'close', 'volume', 'daily_return', '5_day_moving_avg', '30_day_moving_avg']\n",
        "        X = df[features].values\n",
        "\n",
        "        # Convert features to PyTorch tensor for prediction\n",
        "        X_torch = torch.tensor(X, dtype=torch.float32)\n",
        "\n",
        "        # Make predictions using the model\n",
        "        predictions = model(X_torch).detach().numpy()\n",
        "        df['predictions'] = predictions\n",
        "\n",
        "        # Return the predictions as a JSON response\n",
        "        return df.to_json(orient='records')\n",
        "    except Exception as e:\n",
        "        return jsonify({\"error\": str(e)}), 500"
      ]
    },
    {
      "cell_type": "markdown",
      "metadata": {},
      "source": [
        "## 7. Define Stock Data Fetching Route\n",
        "This route fetches stock data from Yahoo Finance, processes it by calculating daily returns and moving averages, and returns the data as a JSON response."
      ]
    },
    {
      "cell_type": "code",
      "execution_count": null,
      "id": "de2d16d6-7",
      "metadata": {},
      "outputs": [],
      "source": [
        "# Flask route for fetching stock data from Yahoo Finance\n",
        "@app.route('/fetch_stock', methods=['GET'])\n",
        "def fetch_stock():\n",
        "    \"\"\"Fetch stock data from Yahoo Finance.\"\"\"\n",
        "    try:\n",
        "        ticker = request.args.get('ticker', default=None, type=str)\n",
        "        if not ticker:\n",
        "            return jsonify({\"error\": \"Ticker symbol is required.\"}), 400\n",
        "\n",
        "        # Fetch stock data for the specified ticker\n",
        "        data = yf.download(ticker, period=\"1y\", interval=\"1d\")\n",
        "        data.reset_index(inplace=True)\n",
        "        data['daily_return'] = data['Adj Close'].pct_change()\n",
        "        data['5_day_moving_avg'] = data['Adj Close'].rolling(window=5).mean()\n",
        "        data['30_day_moving_avg'] = data['Adj Close'].rolling(window=30).mean()\n",
        "\n",
        "        # Return the processed stock data as a JSON response\n",
        "        return data.to_json(orient='records')\n",
        "    except Exception as e:\n",
        "        return jsonify({\"error\": str(e)}), 500"
      ]
    },
    {
      "cell_type": "markdown",
      "metadata": {},
      "source": [
        "## 8. Run the Flask Application\n",
        "Finally, we run the Flask application, which will allow us to interact with the API for making stock price predictions and fetching stock data."
      ]
    },
    {
      "cell_type": "code",
      "execution_count": null,
      "id": "de2d16d6-8",
      "metadata": {},
      "outputs": [],
      "source": [
        "# Run the Flask app in debug mode\n",
        "if __name__ == '__main__':\n",
        "    app.run(debug=True)"
      ]
    }
  ],
  "metadata": {},
  "nbformat": 4,
  "nbformat_minor": 5
}
